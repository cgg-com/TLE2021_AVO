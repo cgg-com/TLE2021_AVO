{
 "cells": [
  {
   "cell_type": "markdown",
   "metadata": {},
   "source": [
    "<font color=darkblue> \n",
    "Bonus Jupyter Notebook to go with \n",
    "    \n",
    "**Model mis-specification and bias in the least-squares algorithm:  Implications for linearized isotropic AVO** \n",
    "    \n",
    "Henning Hoeber, CGG, September 2021, The Leading Edge.    \n",
    "\n",
    "Code and worksheet come without any warranty.\n",
    "\n",
    "*   References can be found in the paper and in the addendum I post on the github."
   ]
  },
  {
   "cell_type": "markdown",
   "metadata": {},
   "source": [
    "These are some additional notes to be read in conjunction with my September 2021 TLE paper \\cite{Hoeber} on \n",
    "model misspecification and omitted variable bias (OVB). Having finished the paper, I started looking \n",
    "at the Ball et al. paper in Geophysics, from 2018 \\cite{Ball}, on three-term AVO projections. (Better late \n",
    "than never; but apologies to the authors for not including this reference in my paper). \n",
    "It is easy to see how bias is also captured in the AVO projection operators, and here I show how. \n",
    "\n",
    "I run two examples.\n",
    "\n",
    "A. I show that the two-term Shuey fit can be obtained via the three-term Shuey fit via the projection operator. I also show how the projection operator is linked to the bias weights I calculated in the paper.\n",
    "\n",
    "B. I repeat the exercise but now linking two-term Shuey to three-term Fatti."
   ]
  },
  {
   "cell_type": "code",
   "execution_count": 1,
   "metadata": {
    "scrolled": true
   },
   "outputs": [],
   "source": [
    "import numpy as np\n",
    "np.set_printoptions(precision=5, suppress=False)\n",
    "import matplotlib.pyplot as plt\n",
    "import matplotlib.gridspec as gridspec\n",
    "from statsmodels import robust\n",
    "#\n",
    "plt.style.use('seaborn-whitegrid')\n",
    "# Default sizes for figure labels\n",
    "plt.rcParams[\"figure.figsize\"] = (20,6)\n",
    "plt.rcParams['axes.labelsize'] = 20\n",
    "plt.rc('font',family='monospace')\n",
    "# fontsize for annotations\n",
    "fsann=16\n",
    "# ylimit\n",
    "pyl=-0.25\n",
    "pym=0.025"
   ]
  },
  {
   "cell_type": "code",
   "execution_count": 2,
   "metadata": {},
   "outputs": [],
   "source": [
    "## Class 3 AVO\n",
    "vp1=2500\n",
    "vp2=2880\n",
    "vs1=1100\n",
    "vs2=1810\n",
    "rho1=2.35\n",
    "rho2=1.99"
   ]
  },
  {
   "cell_type": "code",
   "execution_count": 3,
   "metadata": {},
   "outputs": [],
   "source": [
    "def Rx(x1, x2):\n",
    "    x  =0.5*(x1+x2)\n",
    "    dx = x2-x1\n",
    "    Rx = 0.5* dx/x\n",
    "    return Rx\n",
    "Rd  = Rx(rho1, rho2)\n",
    "gamma = (vs1+vs2)/(vp1+vp2)\n",
    "g2 = gamma**2\n",
    "Rvp = Rx(vp1, vp2)\n",
    "Rvs = Rx(vs1, vs2)\n",
    "Rvsd = Rd + 2 * Rvs\n",
    "# Note: you have to build RIp and RIs like this, otherwise the first order approximation\n",
    "# may be violated!\n",
    "RIp = Rvp + Rd\n",
    "RIs = Rvs + Rd\n",
    "###########################\n",
    "#\n",
    "# Shuey parameters\n",
    "R0 = Rvp + Rd\n",
    "G  = Rvp - 4 * gamma**2 * (Rd + 2*Rvs)\n",
    "C  = Rvp \n",
    "# factor for quadratic term\n",
    "D = (1/(4*gamma)) * (C-G)**2\n",
    "###########################\n",
    "def avoAK2T(avtheta, R0, G):\n",
    "    Y_ARShuey2T = R0 + G*np.sin(avtheta)**2  \n",
    "    return Y_ARShuey2T\n",
    "def avoAK3T(avtheta, R0, G, C):\n",
    "    Y_ARShuey3T = R0 + G*np.sin(avtheta)**2  + C * np.sin(avtheta)**2 * np.tan(avtheta)**2 \n",
    "    return Y_ARShuey3T  \n",
    "def avoAK4T(avtheta, R0, G, C):\n",
    "    term4 = (1/(4*gamma)) * (C-G)**2 * (np.sin(avtheta))**2 * (np.cos(avtheta)) \n",
    "    Y_ARShuey4T = avoAK3T(avtheta, R0, G, C) + term4\n",
    "    return Y_ARShuey4T   \n",
    "###########################"
   ]
  },
  {
   "cell_type": "code",
   "execution_count": 4,
   "metadata": {},
   "outputs": [],
   "source": [
    "############# angle range for the linear fitting\n",
    "minangle = 0 \n",
    "maxangle = 45\n",
    "nangle   = 1*(maxangle - minangle + 1)\n",
    "# X = the regressor \n",
    "Angles = np.linspace(minangle, maxangle, nangle)\n",
    "# incidence angles\n",
    "#Angles = np.arange(minangle, maxangle, 1)\n",
    "# The incidence angle\n",
    "theta1  = np.radians(Angles)\n",
    "nobs = len(Angles) # number of observations\n",
    "theta2 = np.arcsin(vp2/vp1*np.sin(theta1))\n",
    "# Shuey is modelled with average angle, we need this in building the design matrix A later\n",
    "avtheta = (theta1+theta2)/2.0\n",
    "avangles = avtheta"
   ]
  },
  {
   "cell_type": "code",
   "execution_count": 5,
   "metadata": {},
   "outputs": [],
   "source": [
    "### Setup data model as Zoeppritz model + noise\n",
    "yclean = avoAK3T(avangles, R0, G, C)\n",
    "# Gaussian noise of same variance at all angles\n",
    "noiselevel = 0\n",
    "# fed up seeing the same random noise, then remove the next line\n",
    "np.random.seed(1)\n",
    "mean = 0\n",
    "std = noiselevel \n",
    "modelData = yclean + np.random.normal(mean, std, size=nobs)"
   ]
  },
  {
   "cell_type": "markdown",
   "metadata": {},
   "source": [
    "# A. Create the 2-term Shuey fit from the 3-term Shuey fit "
   ]
  },
  {
   "cell_type": "code",
   "execution_count": 6,
   "metadata": {},
   "outputs": [
    {
     "name": "stdout",
     "output_type": "stream",
     "text": [
      "Shuey model values\n",
      "-0.012317 -0.403349 0.070632\n"
     ]
    }
   ],
   "source": [
    "print('Shuey model values')\n",
    "print('%f'% R0, '%f'% G, '%f'% C)\n"
   ]
  },
  {
   "cell_type": "code",
   "execution_count": 7,
   "metadata": {},
   "outputs": [
    {
     "name": "stdout",
     "output_type": "stream",
     "text": [
      "*********************3-term Shuey fit  ***************************\n",
      "3 term fit range (incidence angle) 0.0 45.0\n",
      "Three-term fit result of Shuey AVO model to noise free 3-term model\n",
      "hatR0 = -0.012317\n",
      "hat G = -0.403349\n",
      "hat C= 0.070632\n"
     ]
    }
   ],
   "source": [
    "import math\n",
    "print('*********************3-term Shuey fit  ***************************')\n",
    "###################\n",
    "#\n",
    "XX0S = np.ones(nobs)\n",
    "XX1S = np.sin(avangles)**2  \n",
    "XX2S = (np.tan(avangles))**2 - (np.sin(avangles))**2\n",
    "# solve\n",
    "A = np.column_stack( (XX0S, XX1S, XX2S))\n",
    "AShuey3T = A\n",
    "# solve\n",
    "ATA    = np.dot(A.transpose(),A)\n",
    "ATAINV = np.linalg.inv(ATA)\n",
    "ATY    = np.dot(A.transpose(),modelData)\n",
    "Model3tShuey  = np.dot(ATAINV,ATY) # SOLUTION\n",
    "dataModelShuey3t=np.dot(A,Model3tShuey)\n",
    "residualShuey3t = modelData - dataModelShuey3t\n",
    "AGShuey3t = np.dot(ATAINV,A.transpose())\n",
    "print('3 term fit range (incidence angle)', avtheta[0], math.degrees(theta1[nangle-1]))\n",
    "print('Three-term fit result of Shuey AVO model to noise free 3-term model')\n",
    "print('hatR0 = %f'% Model3tShuey[0])\n",
    "print('hat G = %f'% Model3tShuey[1])\n",
    "print('hat C= %f'% Model3tShuey[2])"
   ]
  },
  {
   "cell_type": "code",
   "execution_count": 8,
   "metadata": {},
   "outputs": [
    {
     "name": "stdout",
     "output_type": "stream",
     "text": [
      "*****************************Shuey model\n",
      "-0.012317 -0.403349 0.070632\n",
      "*****************************Conventional Shuey 2-term fit\n",
      "R0 fit =-0.017995\n",
      "G fit=  -0.328611\n"
     ]
    }
   ],
   "source": [
    "#  Shuey 2 term \n",
    "A = np.column_stack( (XX0S, XX1S )) \n",
    "AShuey2t = A\n",
    "# solve\n",
    "ATA = np.dot(A.transpose(),A)\n",
    "ATAINV = np.linalg.inv(ATA)\n",
    "ATY = np.dot(A.transpose(),modelData)\n",
    "AGShuey2t = np.dot(ATAINV,A.transpose())\n",
    "ModelShuey2t = np.dot(ATAINV,ATY) # SOLUTION\n",
    "dataModel2TShuey=np.dot(A,ModelShuey2t)\n",
    "print('*****************************Shuey model')\n",
    "print('%f'% R0, '%f'% G, '%f'% C)\n",
    "print('*****************************Conventional Shuey 2-term fit')\n",
    "print('R0 fit =%7.6f' % ModelShuey2t[0])\n",
    "print('G fit=  %7.6f' % ModelShuey2t[1])"
   ]
  },
  {
   "cell_type": "markdown",
   "metadata": {},
   "source": [
    "## Calculate the bias weights\n"
   ]
  },
  {
   "cell_type": "code",
   "execution_count": 9,
   "metadata": {},
   "outputs": [
    {
     "name": "stdout",
     "output_type": "stream",
     "text": [
      "[-0.08038  1.05814]\n"
     ]
    }
   ],
   "source": [
    "## Calculate the third term bias weights: covariance and dot product\n",
    "vec = [np.dot(XX0S, XX2S), np.dot(XX1S,XX2S)]\n",
    "biasR0G = np.dot(ATAINV, vec)\n",
    "print(biasR0G) "
   ]
  },
  {
   "cell_type": "code",
   "execution_count": 10,
   "metadata": {},
   "outputs": [
    {
     "name": "stdout",
     "output_type": "stream",
     "text": [
      "-0.017995 -0.328611\n"
     ]
    }
   ],
   "source": [
    "## Show by hand that the bias weights re-create the 2-term fit [eq 5 addendum] from the 3-term fit\n",
    "newR0Shuey2t = Model3tShuey[0] + biasR0G[0]*Model3tShuey[2]\n",
    "newGShuey2t  = Model3tShuey[1] + biasR0G[1]*Model3tShuey[2]\n",
    "print('%f'% newR0Shuey2t, '%f'% newGShuey2t)"
   ]
  },
  {
   "cell_type": "markdown",
   "metadata": {},
   "source": [
    "## Build & apply the projection operator Shuey 2-term A^-g * Shuey 3t A"
   ]
  },
  {
   "cell_type": "code",
   "execution_count": 11,
   "metadata": {},
   "outputs": [
    {
     "name": "stdout",
     "output_type": "stream",
     "text": [
      "Projection matrix\n",
      "[[ 1.00000e+00 -1.65007e-18 -8.03836e-02]\n",
      " [ 5.27356e-16  1.00000e+00  1.05814e+00]]\n",
      "*****************Shuey model params from application of the 3-term projection\n",
      "R0 fit =-0.017995\n",
      "G fit=  -0.328611\n"
     ]
    }
   ],
   "source": [
    "proj = np.dot(AGShuey2t,AShuey3T)\n",
    "# Use projection operator to get 2 term Shuey from 3 term Shuey\n",
    "shuey2termproj = np.dot(proj,Model3tShuey)\n",
    "print('Projection matrix')\n",
    "print(proj)\n",
    "print('*****************Shuey model params from application of the 3-term projection')\n",
    "print('R0 fit =%7.6f' % shuey2termproj[0])\n",
    "print('G fit=  %7.6f' % shuey2termproj[1])"
   ]
  },
  {
   "cell_type": "markdown",
   "metadata": {},
   "source": [
    "Discussion: Notice how the projection matrix has a 2x2 unit matrix on the left"
   ]
  },
  {
   "cell_type": "markdown",
   "metadata": {},
   "source": [
    "# B. Start with a 3-term Fatti and create the two-term Shuey"
   ]
  },
  {
   "cell_type": "code",
   "execution_count": 12,
   "metadata": {},
   "outputs": [
    {
     "name": "stdout",
     "output_type": "stream",
     "text": [
      "*********************3-term Fatti fit  ***************************\n",
      "3-term model params for Fatti are\n",
      "RIp = -0.012317\n",
      "RIs    = 0.161037\n",
      "Rd    = -0.082949\n",
      "3 term fit range (incidence angle) 0.0 45.0\n",
      "Three-term fit result of Fatti AVO model to noise free 4-term Model\n",
      "hat RIp = -0.012317\n",
      "hat RIs = 0.161037\n",
      "hat Rd  = 0.082949\n"
     ]
    }
   ],
   "source": [
    "import math\n",
    "print('*********************3-term Fatti fit  ***************************')\n",
    "################################\n",
    "print('3-term model params for Fatti are')\n",
    "print('RIp = %f'% RIp)\n",
    "print('RIs    = %f'% RIs)\n",
    "print('Rd    = %f'% Rd)\n",
    "###################\n",
    "XX0F  = 1 + (np.tan(avtheta))**2\n",
    "XX1F  = -8*g2*(np.sin(avtheta))**2\n",
    "XX2F  = (np.tan(avtheta))**2 - 4*g2*(np.sin(avtheta))**2\n",
    "#\n",
    "# solve\n",
    "A = np.column_stack( (XX0F, XX1F, XX2F))\n",
    "AFatti3T = A\n",
    "# solve\n",
    "ATA    = np.dot(A.transpose(),A)\n",
    "ATAINV = np.linalg.inv(ATA)\n",
    "ATY    = np.dot(A.transpose(),modelData)\n",
    "Model3tFatti  = np.dot(ATAINV,ATY) # SOLUTION\n",
    "dataModelFatti3t=np.dot(A,Model3tFatti)\n",
    "residualFatti3t = modelData - dataModelFatti3t\n",
    "AGFatti3t = np.dot(ATAINV,A.transpose())\n",
    "print('3 term fit range (incidence angle)', avtheta[0], math.degrees(theta1[nangle-1]))\n",
    "print('Three-term fit result of Fatti AVO model to noise free 4-term Model')\n",
    "print('hat RIp = %f'% Model3tFatti[0])\n",
    "print('hat RIs = %f'% Model3tFatti[1])\n",
    "print('hat Rd  = %f'% Model3tFatti[2])"
   ]
  },
  {
   "cell_type": "markdown",
   "metadata": {},
   "source": [
    "## Next do a 2 term Shuey fit"
   ]
  },
  {
   "cell_type": "code",
   "execution_count": 13,
   "metadata": {},
   "outputs": [
    {
     "name": "stdout",
     "output_type": "stream",
     "text": [
      "*****************************Shuey model\n",
      "-0.012317 -0.403349 0.070632\n",
      "*****************************Conventional Shuey 2-term fit\n",
      "R0 fit =-0.017995\n",
      "G fit=  -0.328611\n"
     ]
    }
   ],
   "source": [
    "#  Shuey 2 term \n",
    "A = np.column_stack( (XX0S, XX1S )) \n",
    "AShuey2t = A\n",
    "# solve\n",
    "ATA = np.dot(A.transpose(),A)\n",
    "ATAINV = np.linalg.inv(ATA)\n",
    "ATY = np.dot(A.transpose(),modelData)\n",
    "AGShuey2t = np.dot(ATAINV,A.transpose())\n",
    "ModelShuey2t = np.dot(ATAINV,ATY) # SOLUTION\n",
    "dataModel2TShuey=np.dot(A,ModelShuey2t)\n",
    "print('*****************************Shuey model')\n",
    "print('%f'% R0, '%f'% G, '%f'% C)\n",
    "print('*****************************Conventional Shuey 2-term fit')\n",
    "print('R0 fit =%7.6f' % ModelShuey2t[0])\n",
    "print('G fit=  %7.6f' % ModelShuey2t[1])"
   ]
  },
  {
   "cell_type": "markdown",
   "metadata": {},
   "source": [
    "## Build the projection operator Shuey 2-term A^-g * Fatti 3t A"
   ]
  },
  {
   "cell_type": "code",
   "execution_count": 14,
   "metadata": {},
   "outputs": [
    {
     "name": "stdout",
     "output_type": "stream",
     "text": [
      "Projection matrix\n",
      "[[ 9.19616e-01  4.16036e-17 -8.03836e-02]\n",
      " [ 2.05814e+00 -2.34051e+00  8.87884e-01]]\n",
      "*****************Shuey model params from application of the 3-term projection\n",
      "R0 fit =-0.017995\n",
      "G fit=  -0.328611\n"
     ]
    }
   ],
   "source": [
    "proj = np.dot(AGShuey2t,AFatti3T)\n",
    "# Use projection operator to get 2 term Shuey from 3 term Fatt\n",
    "shuey2termproj = np.dot(proj,Model3tFatti)\n",
    "print('Projection matrix')\n",
    "print(proj)\n",
    "print('*****************Shuey model params from application of the 3-term projection')\n",
    "print('R0 fit =%7.6f' % shuey2termproj[0])\n",
    "print('G fit=  %7.6f' % shuey2termproj[1])"
   ]
  },
  {
   "cell_type": "markdown",
   "metadata": {},
   "source": [
    "## Fit 2-term AVO to the synthetic from the 3 term Fatti fit"
   ]
  },
  {
   "cell_type": "code",
   "execution_count": 15,
   "metadata": {},
   "outputs": [
    {
     "name": "stdout",
     "output_type": "stream",
     "text": [
      "*****************************Shuey 2-term fit of the synthetic from 3 term Fatti fitting\n",
      "R0 fit =-0.017995\n",
      "G fit=  -0.328611\n"
     ]
    }
   ],
   "source": [
    "ATY = np.dot(AShuey2t.transpose(),dataModelFatti3t)\n",
    "newModelShuey2t = np.dot(ATAINV,ATY) # SOLUTION\n",
    "dataModel2TShuey=np.dot(A,newModelShuey2t)\n",
    "print('*****************************Shuey 2-term fit of the synthetic from 3 term Fatti fitting')\n",
    "print('R0 fit =%7.6f' % newModelShuey2t[0])\n",
    "print('G fit=  %7.6f' % newModelShuey2t[1])"
   ]
  },
  {
   "cell_type": "markdown",
   "metadata": {},
   "source": [
    "## Projection of the A-g 2t Shuey onto the model data from Fatti 3t should again give the same as the basic 2-term Shuey fit"
   ]
  },
  {
   "cell_type": "code",
   "execution_count": 16,
   "metadata": {},
   "outputs": [
    {
     "name": "stdout",
     "output_type": "stream",
     "text": [
      "R0 fit =-0.017995\n",
      "G fit=  -0.328611\n"
     ]
    }
   ],
   "source": [
    "tt=AGShuey2t.dot(dataModelFatti3t)\n",
    "print('R0 fit =%7.6f' % tt[0])\n",
    "print('G fit=  %7.6f' % tt[1])"
   ]
  },
  {
   "cell_type": "markdown",
   "metadata": {},
   "source": [
    "## Another way of saying this A^-g 2t Shuey projected onto the Fatti 3t residual is zero: the Fatti residual is in the nullspace of the Shuey generalised inverse"
   ]
  },
  {
   "cell_type": "code",
   "execution_count": 17,
   "metadata": {},
   "outputs": [
    {
     "data": {
      "text/plain": [
       "array([ 1.32140e-16, -1.12816e-15])"
      ]
     },
     "execution_count": 17,
     "metadata": {},
     "output_type": "execute_result"
    }
   ],
   "source": [
    "AGShuey2t.dot(residualFatti3t)"
   ]
  },
  {
   "cell_type": "markdown",
   "metadata": {},
   "source": [
    "## Test A1 = N2 A1"
   ]
  },
  {
   "cell_type": "code",
   "execution_count": 18,
   "metadata": {},
   "outputs": [
    {
     "data": {
      "image/png": "[encoded data removed]",
      "text/plain": [
       "<Figure size 288x288 with 2 Axes>"
      ]
     },
     "metadata": {
      "needs_background": "light"
     },
     "output_type": "display_data"
    }
   ],
   "source": [
    "### Data Resolution matrix of 3-term Fatti\n",
    "resFatti3t=AFatti3T.dot(AGFatti3t)\n",
    "#fig, ax = plt.subplots()\n",
    "plt.matshow(resFatti3t, cmap=plt.cm.Reds)\n",
    "clb=plt.colorbar()\n",
    "clb.set_label('Data Resolution', rotation=270, labelpad=+30)\n",
    "plt.show()"
   ]
  },
  {
   "cell_type": "code",
   "execution_count": 19,
   "metadata": {},
   "outputs": [
    {
     "data": {
      "text/plain": [
       "array([[ 7.63278e-17,  7.63278e-17,  7.63278e-17,  8.32667e-17,\n",
       "         7.63278e-17,  4.16334e-17,  9.02056e-17,  4.85723e-17,\n",
       "         5.55112e-17,  8.32667e-17,  6.93889e-17,  8.32667e-17,\n",
       "         6.24500e-17,  5.55112e-17,  5.55112e-17,  4.16334e-17,\n",
       "         4.16334e-17,  4.85723e-17,  2.77556e-17,  4.85723e-17,\n",
       "         4.16334e-17,  3.81639e-17,  3.46945e-17,  5.55112e-17,\n",
       "         2.77556e-17,  4.16334e-17,  4.16334e-17,  3.46945e-17,\n",
       "         3.46945e-17,  2.94903e-17,  3.46945e-17,  1.38778e-17,\n",
       "         2.34188e-17,  1.17094e-17,  3.25261e-18, -1.08420e-18,\n",
       "         1.30104e-17,  9.54098e-18, -6.93889e-18,  1.21431e-17,\n",
       "        -3.46945e-18,  0.00000e+00, -3.46945e-18, -1.73472e-17,\n",
       "        -2.08167e-17, -1.73472e-17],\n",
       "       [-2.22045e-16, -2.22045e-16, -1.38778e-16, -1.66533e-16,\n",
       "        -1.66533e-16, -2.49800e-16, -1.11022e-16, -1.66533e-16,\n",
       "        -1.80411e-16, -2.35922e-16, -1.80411e-16, -1.66533e-16,\n",
       "        -1.66533e-16, -2.08167e-16, -1.94289e-16, -1.52656e-16,\n",
       "        -1.80411e-16, -1.66533e-16, -2.49800e-16, -1.80411e-16,\n",
       "        -2.49800e-16, -1.31839e-16, -1.87350e-16, -1.76942e-16,\n",
       "        -1.47451e-16, -1.73472e-16, -1.56125e-16, -1.76942e-16,\n",
       "        -2.04697e-16, -1.38778e-16, -1.66533e-16, -1.17961e-16,\n",
       "        -2.22045e-16, -1.11022e-16, -1.38778e-16, -1.52656e-16,\n",
       "        -2.22045e-16, -2.22045e-16, -1.66533e-16, -1.66533e-16,\n",
       "        -8.32667e-17, -1.38778e-16,  0.00000e+00, -1.94289e-16,\n",
       "        -8.32667e-17, -1.66533e-16]])"
      ]
     },
     "execution_count": 19,
     "metadata": {},
     "output_type": "execute_result"
    }
   ],
   "source": [
    "# A-g Shuey NFatti\n",
    "AGShuey2t.dot(resFatti3t) - AGShuey2t"
   ]
  },
  {
   "cell_type": "markdown",
   "metadata": {},
   "source": [
    "## Can also write this as N 2t Shuey = N 2t Shuey N 3t Fatti\n",
    "### N is the data resolution matrix"
   ]
  },
  {
   "cell_type": "code",
   "execution_count": 20,
   "metadata": {},
   "outputs": [
    {
     "data": {
      "text/plain": [
       "array([[-7.63278e-17, -7.63278e-17, -7.63278e-17, ...,  1.73472e-17,\n",
       "         2.08167e-17,  1.73472e-17],\n",
       "       [-6.93889e-17, -2.77556e-17, -8.32667e-17, ...,  1.73472e-17,\n",
       "         2.08167e-17,  1.38778e-17],\n",
       "       [-6.93889e-17, -4.85723e-17, -6.24500e-17, ...,  1.73472e-17,\n",
       "         2.42861e-17,  1.73472e-17],\n",
       "       ...,\n",
       "       [ 2.77556e-17,  6.93889e-17,  3.46945e-18, ...,  1.24900e-16,\n",
       "         8.32667e-17,  1.24900e-16],\n",
       "       [ 3.46945e-17,  6.59195e-17,  1.04083e-17, ...,  1.24900e-16,\n",
       "         9.71445e-17,  1.11022e-16],\n",
       "       [ 5.55112e-17,  6.93889e-17,  3.46945e-18, ...,  1.24900e-16,\n",
       "         9.71445e-17,  1.24900e-16]])"
      ]
     },
     "execution_count": 20,
     "metadata": {},
     "output_type": "execute_result"
    }
   ],
   "source": [
    "resShuey2t=AShuey2t.dot(AGShuey2t)\n",
    "resShuey2t - resShuey2t.dot(resFatti3t)"
   ]
  },
  {
   "cell_type": "code",
   "execution_count": null,
   "metadata": {},
   "outputs": [],
   "source": []
  }
 ],
 "metadata": {
  "kernelspec": {
   "display_name": "Python 3",
   "language": "python",
   "name": "python3"
  },
  "language_info": {
   "codemirror_mode": {
    "name": "ipython",
    "version": 3
   },
   "file_extension": ".py",
   "mimetype": "text/x-python",
   "name": "python",
   "nbconvert_exporter": "python",
   "pygments_lexer": "ipython3",
   "version": "3.6.8"
  }
 },
 "nbformat": 4,
 "nbformat_minor": 2
}
